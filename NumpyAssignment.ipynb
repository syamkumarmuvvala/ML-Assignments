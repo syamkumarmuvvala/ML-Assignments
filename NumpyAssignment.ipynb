{
  "nbformat": 4,
  "nbformat_minor": 0,
  "metadata": {
    "colab": {
      "name": "NumpyAssignment.ipynb",
      "provenance": [],
      "collapsed_sections": [
        "7D9vHztGR3M5",
        "w2jQ1fHAfWOV"
      ],
      "authorship_tag": "ABX9TyNB1/fTMxN90J6SOvJucYqW",
      "include_colab_link": true
    },
    "kernelspec": {
      "name": "python3",
      "display_name": "Python 3"
    }
  },
  "cells": [
    {
      "cell_type": "markdown",
      "metadata": {
        "id": "view-in-github",
        "colab_type": "text"
      },
      "source": [
        "<a href=\"https://colab.research.google.com/github/syamkumarmuvvala/ML-Assignments/blob/master/NumpyAssignment.ipynb\" target=\"_parent\"><img src=\"https://colab.research.google.com/assets/colab-badge.svg\" alt=\"Open In Colab\"/></a>"
      ]
    },
    {
      "cell_type": "markdown",
      "metadata": {
        "id": "L45wDTz4RnlL",
        "colab_type": "text"
      },
      "source": [
        "# Numpy Assignment\n",
        "### Author : Syam Kumar Muvvala"
      ]
    },
    {
      "cell_type": "markdown",
      "metadata": {
        "id": "-C6EQTQYR0yp",
        "colab_type": "text"
      },
      "source": [
        "### Question - 01"
      ]
    },
    {
      "cell_type": "code",
      "metadata": {
        "id": "e-gRfqWOBSoj",
        "colab_type": "code",
        "colab": {}
      },
      "source": [
        "import numpy as np"
      ],
      "execution_count": 0,
      "outputs": []
    },
    {
      "cell_type": "code",
      "metadata": {
        "id": "dGwyMqpyF71F",
        "colab_type": "code",
        "colab": {}
      },
      "source": [
        "def GetVanderMondeMatrix(Matrix, IncreasingOrder):\n",
        "  rows = Matrix.shape[0]\n",
        "  cols = Matrix.shape[1]\n",
        "  N = cols\n",
        "  for i in range(rows):\n",
        "    for j in range(cols):\n",
        "      if IncreasingOrder is False:\n",
        "        Matrix[i,j] = Matrix[i,j] ** (N-j-1)\n",
        "      else:\n",
        "        Matrix[i,j] = Matrix[i,j] ** (j)\n",
        "  return Matrix"
      ],
      "execution_count": 0,
      "outputs": []
    },
    {
      "cell_type": "code",
      "metadata": {
        "id": "fmk7fkaYHIs-",
        "colab_type": "code",
        "colab": {
          "base_uri": "https://localhost:8080/",
          "height": 85
        },
        "outputId": "22235336-5ca6-4317-b223-77a29e79199d"
      },
      "source": [
        "# testing the above function\n",
        "x = np.array([[1,2,3,4,5],[6,7,8,9,10],[11,12,13,14,15],[16,17,18,19,20]])\n",
        "GetVanderMondeMatrix(x,True)"
      ],
      "execution_count": 27,
      "outputs": [
        {
          "output_type": "execute_result",
          "data": {
            "text/plain": [
              "array([[     1,      2,      9,     64,    625],\n",
              "       [     1,      7,     64,    729,  10000],\n",
              "       [     1,     12,    169,   2744,  50625],\n",
              "       [     1,     17,    324,   6859, 160000]])"
            ]
          },
          "metadata": {
            "tags": []
          },
          "execution_count": 27
        }
      ]
    },
    {
      "cell_type": "markdown",
      "metadata": {
        "id": "7D9vHztGR3M5",
        "colab_type": "text"
      },
      "source": [
        "### Question - 02\n",
        "### Problem : Kth Moving Average"
      ]
    },
    {
      "cell_type": "code",
      "metadata": {
        "id": "IgIiLbjTTyLB",
        "colab_type": "code",
        "colab": {}
      },
      "source": [
        "def PrepareNumbersList(inp):\n",
        "  inplist = inp.split(',')\n",
        "  Res = []\n",
        "  for i in inplist:\n",
        "    Res.append(int(i))\n",
        "  return Res\n"
      ],
      "execution_count": 0,
      "outputs": []
    },
    {
      "cell_type": "code",
      "metadata": {
        "id": "lJYM0nRvSjj3",
        "colab_type": "code",
        "colab": {}
      },
      "source": [
        "def MovingAverage(inpList, k):\n",
        "  l = len(inpList)\n",
        "  Res = []\n",
        "  for i in range(0,l-k+1):\n",
        "    Res.append(sum(inpList[i:i+k])/k)\n",
        "  return Res"
      ],
      "execution_count": 0,
      "outputs": []
    },
    {
      "cell_type": "code",
      "metadata": {
        "id": "8JBYUC4uTNlH",
        "colab_type": "code",
        "colab": {}
      },
      "source": [
        "def FindMovingAverage():\n",
        "  inp = input(\"Enter the comma separated list of numbers : \")\n",
        "  k = int(input(\"Enter the Window size : \"))\n",
        "  if inp is not \"\":\n",
        "    inpList = PrepareNumbersList(inp)\n",
        "  else:\n",
        "    return \"Invalid List\"\n",
        "  if len(inpList) != 0 and k<len(inpList):\n",
        "    return MovingAverage(inpList,k)\n",
        "  else:\n",
        "    return \"Invalid Parameters Given\""
      ],
      "execution_count": 0,
      "outputs": []
    },
    {
      "cell_type": "markdown",
      "metadata": {
        "id": "w2jQ1fHAfWOV",
        "colab_type": "text"
      },
      "source": [
        "#### Applying the Function For Given List"
      ]
    },
    {
      "cell_type": "code",
      "metadata": {
        "id": "S9vmL8bde8a9",
        "colab_type": "code",
        "outputId": "4e45d7af-a30c-4c6a-f07e-79237e7e9e33",
        "colab": {
          "base_uri": "https://localhost:8080/",
          "height": 254
        }
      },
      "source": [
        "FindMovingAverage()"
      ],
      "execution_count": 0,
      "outputs": [
        {
          "output_type": "stream",
          "text": [
            "Enter the comma separated list of numbers : 3,5,7,2,8,10,11,65,72,81,99,100,150\n",
            "Enter the Window size : 3\n"
          ],
          "name": "stdout"
        },
        {
          "output_type": "execute_result",
          "data": {
            "text/plain": [
              "[5.0,\n",
              " 4.666666666666667,\n",
              " 5.666666666666667,\n",
              " 6.666666666666667,\n",
              " 9.666666666666666,\n",
              " 28.666666666666668,\n",
              " 49.333333333333336,\n",
              " 72.66666666666667,\n",
              " 84.0,\n",
              " 93.33333333333333,\n",
              " 116.33333333333333]"
            ]
          },
          "metadata": {
            "tags": []
          },
          "execution_count": 76
        }
      ]
    },
    {
      "cell_type": "code",
      "metadata": {
        "id": "QJu2IO55Uv0a",
        "colab_type": "code",
        "outputId": "3a7892dd-37d5-40e2-dfdb-d862ea841527",
        "colab": {
          "base_uri": "https://localhost:8080/",
          "height": 72
        }
      },
      "source": [
        "FindMovingAverage()"
      ],
      "execution_count": 0,
      "outputs": [
        {
          "output_type": "stream",
          "text": [
            "Enter the comma separated list of numbers : 10,20,30,40,50,60,70,80,90,100\n",
            "Enter the Window size : 4\n"
          ],
          "name": "stdout"
        },
        {
          "output_type": "execute_result",
          "data": {
            "text/plain": [
              "[25.0, 35.0, 45.0, 55.0, 65.0, 75.0, 85.0]"
            ]
          },
          "metadata": {
            "tags": []
          },
          "execution_count": 67
        }
      ]
    },
    {
      "cell_type": "code",
      "metadata": {
        "id": "JjMiHgJ-ZxF6",
        "colab_type": "code",
        "outputId": "ea85dfbe-2f89-4f28-edf7-df8840970353",
        "colab": {
          "base_uri": "https://localhost:8080/",
          "height": 72
        }
      },
      "source": [
        "FindMovingAverage()"
      ],
      "execution_count": 0,
      "outputs": [
        {
          "output_type": "stream",
          "text": [
            "Enter the comma separated list of numbers : 10,20,30\n",
            "Enter the Window size : 2\n"
          ],
          "name": "stdout"
        },
        {
          "output_type": "execute_result",
          "data": {
            "text/plain": [
              "[15.0, 25.0]"
            ]
          },
          "metadata": {
            "tags": []
          },
          "execution_count": 69
        }
      ]
    },
    {
      "cell_type": "code",
      "metadata": {
        "id": "mXyvr5vtd_FO",
        "colab_type": "code",
        "outputId": "1b120a0a-1757-4646-d615-03ec54412fcb",
        "colab": {
          "base_uri": "https://localhost:8080/",
          "height": 435
        }
      },
      "source": [
        "FindMovingAverage()"
      ],
      "execution_count": 0,
      "outputs": [
        {
          "output_type": "stream",
          "text": [
            "Enter the comma separated list of numbers : 50,45,80,96,4,55,26,20,12,52,89,90,99,45,46,47,48,49,50,45,12,10,20,13,14,15,16,17,18,19,20\n",
            "Enter the Window size : 11\n"
          ],
          "name": "stdout"
        },
        {
          "output_type": "execute_result",
          "data": {
            "text/plain": [
              "[48.09090909090909,\n",
              " 51.72727272727273,\n",
              " 56.63636363636363,\n",
              " 53.45454545454545,\n",
              " 48.90909090909091,\n",
              " 52.81818181818182,\n",
              " 52.18181818181818,\n",
              " 54.27272727272727,\n",
              " 57.0,\n",
              " 60.0,\n",
              " 56.36363636363637,\n",
              " 49.18181818181818,\n",
              " 42.81818181818182,\n",
              " 35.0,\n",
              " 32.18181818181818,\n",
              " 29.363636363636363,\n",
              " 26.545454545454547,\n",
              " 23.727272727272727,\n",
              " 20.90909090909091,\n",
              " 18.09090909090909,\n",
              " 15.818181818181818]"
            ]
          },
          "metadata": {
            "tags": []
          },
          "execution_count": 71
        }
      ]
    },
    {
      "cell_type": "code",
      "metadata": {
        "id": "Q3fhD6vtdxv_",
        "colab_type": "code",
        "outputId": "3f5d4e68-d12b-40ef-b1e7-b4e54e435bd7",
        "colab": {
          "base_uri": "https://localhost:8080/",
          "height": 72
        }
      },
      "source": [
        "FindMovingAverage()"
      ],
      "execution_count": 0,
      "outputs": [
        {
          "output_type": "stream",
          "text": [
            "Enter the comma separated list of numbers : 10,20,30,40\n",
            "Enter the Window size : 6\n"
          ],
          "name": "stdout"
        },
        {
          "output_type": "execute_result",
          "data": {
            "text/plain": [
              "'Invalid Parameters Given'"
            ]
          },
          "metadata": {
            "tags": []
          },
          "execution_count": 70
        }
      ]
    }
  ]
}