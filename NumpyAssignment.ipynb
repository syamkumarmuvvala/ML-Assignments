{
  "nbformat": 4,
  "nbformat_minor": 0,
  "metadata": {
    "colab": {
      "name": "NumpyAssignment.ipynb",
      "provenance": [],
      "collapsed_sections": [],
      "authorship_tag": "ABX9TyN44FrCLC6BaRJ61fLjX15K",
      "include_colab_link": true
    },
    "kernelspec": {
      "name": "python3",
      "display_name": "Python 3"
    }
  },
  "cells": [
    {
      "cell_type": "markdown",
      "metadata": {
        "id": "view-in-github",
        "colab_type": "text"
      },
      "source": [
        "<a href=\"https://colab.research.google.com/github/syamkumarmuvvala/ML-Assignments/blob/master/NumpyAssignment.ipynb\" target=\"_parent\"><img src=\"https://colab.research.google.com/assets/colab-badge.svg\" alt=\"Open In Colab\"/></a>"
      ]
    },
    {
      "cell_type": "markdown",
      "metadata": {
        "id": "L45wDTz4RnlL",
        "colab_type": "text"
      },
      "source": [
        "# Numpy Assignment\n",
        "### Author : Syam Kumar Muvvala"
      ]
    },
    {
      "cell_type": "markdown",
      "metadata": {
        "id": "-C6EQTQYR0yp",
        "colab_type": "text"
      },
      "source": [
        "### Question - 01"
      ]
    },
    {
      "cell_type": "code",
      "metadata": {
        "id": "e-gRfqWOBSoj",
        "colab_type": "code",
        "colab": {}
      },
      "source": [
        "import numpy as np"
      ],
      "execution_count": 0,
      "outputs": []
    },
    {
      "cell_type": "code",
      "metadata": {
        "id": "dGwyMqpyF71F",
        "colab_type": "code",
        "colab": {}
      },
      "source": [
        "def GetVanderMondeMatrix(Matrix, IncreasingOrder):\n",
        "  if Matrix.ndim > 1:\n",
        "    rows = Matrix.shape[0]\n",
        "    cols = Matrix.shape[1]\n",
        "    N = cols\n",
        "    RMatrix = np.zeros((rows,cols),dtype=int)\n",
        "    for i in range(rows):\n",
        "      for j in range(cols):\n",
        "        if IncreasingOrder is False:\n",
        "          RMatrix[i,j] = Matrix[i,j] ** (N-j-1)\n",
        "        else:\n",
        "          RMatrix[i,j] = Matrix[i,j] ** (j)\n",
        "  else:\n",
        "    rows = Matrix.shape[0]\n",
        "    N = rows\n",
        "    RMatrix = np.zeros(rows,dtype=int)\n",
        "    for i in range(rows):\n",
        "      if IncreasingOrder is False:\n",
        "          RMatrix[i] = Matrix[i] ** (N-i-1)\n",
        "      else:\n",
        "          RMatrix[i] = Matrix[i] ** (i)\n",
        "  return RMatrix"
      ],
      "execution_count": 0,
      "outputs": []
    },
    {
      "cell_type": "code",
      "metadata": {
        "id": "khPY5u9PRXZq",
        "colab_type": "code",
        "outputId": "96dc9c82-a2e2-42a1-e893-d8e94a222c48",
        "colab": {
          "base_uri": "https://localhost:8080/",
          "height": 85
        }
      },
      "source": [
        "print(x)"
      ],
      "execution_count": 33,
      "outputs": [
        {
          "output_type": "stream",
          "text": [
            "[[ 1  2  3  4  5]\n",
            " [ 6  7  8  9 10]\n",
            " [11 12 13 14 15]\n",
            " [16 17 18 19 20]]\n"
          ],
          "name": "stdout"
        }
      ]
    },
    {
      "cell_type": "code",
      "metadata": {
        "id": "fmk7fkaYHIs-",
        "colab_type": "code",
        "outputId": "72f290f4-5319-43b2-82de-881e7e75fea7",
        "colab": {
          "base_uri": "https://localhost:8080/",
          "height": 85
        }
      },
      "source": [
        "# testing the above function with increasingOrder = True\n",
        "x = np.array([[1,2,3,4,5],[6,7,8,9,10],[11,12,13,14,15],[16,17,18,19,20]])\n",
        "GetVanderMondeMatrix(x,True)"
      ],
      "execution_count": 34,
      "outputs": [
        {
          "output_type": "execute_result",
          "data": {
            "text/plain": [
              "array([[     1,      2,      9,     64,    625],\n",
              "       [     1,      7,     64,    729,  10000],\n",
              "       [     1,     12,    169,   2744,  50625],\n",
              "       [     1,     17,    324,   6859, 160000]])"
            ]
          },
          "metadata": {
            "tags": []
          },
          "execution_count": 34
        }
      ]
    },
    {
      "cell_type": "code",
      "metadata": {
        "id": "E5VFGkAdRREr",
        "colab_type": "code",
        "outputId": "28836c62-d4cb-4b7f-e393-ac41f1c9d16f",
        "colab": {
          "base_uri": "https://localhost:8080/",
          "height": 85
        }
      },
      "source": [
        "# testing the above function with increasingOrder = False\n",
        "x = np.array([[1,2,3,4,5],[6,7,8,9,10],[11,12,13,14,15],[16,17,18,19,20]])\n",
        "GetVanderMondeMatrix(x,False)"
      ],
      "execution_count": 35,
      "outputs": [
        {
          "output_type": "execute_result",
          "data": {
            "text/plain": [
              "array([[    1,     8,     9,     4,     1],\n",
              "       [ 1296,   343,    64,     9,     1],\n",
              "       [14641,  1728,   169,    14,     1],\n",
              "       [65536,  4913,   324,    19,     1]])"
            ]
          },
          "metadata": {
            "tags": []
          },
          "execution_count": 35
        }
      ]
    },
    {
      "cell_type": "code",
      "metadata": {
        "id": "jl_li3d7gSDF",
        "colab_type": "code",
        "colab": {}
      },
      "source": [
        "x = np.arange(100).reshape(25,4)"
      ],
      "execution_count": 0,
      "outputs": []
    },
    {
      "cell_type": "code",
      "metadata": {
        "id": "7Ee260eOhQOO",
        "colab_type": "code",
        "colab": {
          "base_uri": "https://localhost:8080/",
          "height": 442
        },
        "outputId": "f0ee06a7-f372-4b62-9ee5-1494ed0917de"
      },
      "source": [
        "GetVanderMondeMatrix(x,False)"
      ],
      "execution_count": 37,
      "outputs": [
        {
          "output_type": "execute_result",
          "data": {
            "text/plain": [
              "array([[     0,      1,      2,      1],\n",
              "       [    64,     25,      6,      1],\n",
              "       [   512,     81,     10,      1],\n",
              "       [  1728,    169,     14,      1],\n",
              "       [  4096,    289,     18,      1],\n",
              "       [  8000,    441,     22,      1],\n",
              "       [ 13824,    625,     26,      1],\n",
              "       [ 21952,    841,     30,      1],\n",
              "       [ 32768,   1089,     34,      1],\n",
              "       [ 46656,   1369,     38,      1],\n",
              "       [ 64000,   1681,     42,      1],\n",
              "       [ 85184,   2025,     46,      1],\n",
              "       [110592,   2401,     50,      1],\n",
              "       [140608,   2809,     54,      1],\n",
              "       [175616,   3249,     58,      1],\n",
              "       [216000,   3721,     62,      1],\n",
              "       [262144,   4225,     66,      1],\n",
              "       [314432,   4761,     70,      1],\n",
              "       [373248,   5329,     74,      1],\n",
              "       [438976,   5929,     78,      1],\n",
              "       [512000,   6561,     82,      1],\n",
              "       [592704,   7225,     86,      1],\n",
              "       [681472,   7921,     90,      1],\n",
              "       [778688,   8649,     94,      1],\n",
              "       [884736,   9409,     98,      1]])"
            ]
          },
          "metadata": {
            "tags": []
          },
          "execution_count": 37
        }
      ]
    },
    {
      "cell_type": "code",
      "metadata": {
        "id": "MzNlLDRYpfGg",
        "colab_type": "code",
        "colab": {
          "base_uri": "https://localhost:8080/",
          "height": 34
        },
        "outputId": "064805a6-f0a4-465a-d826-67ff0bdf3894"
      },
      "source": [
        "GetVanderMondeMatrix(np.array([1,2,3,4,5,6]),False)"
      ],
      "execution_count": 38,
      "outputs": [
        {
          "output_type": "execute_result",
          "data": {
            "text/plain": [
              "array([ 1, 16, 27, 16,  5,  1])"
            ]
          },
          "metadata": {
            "tags": []
          },
          "execution_count": 38
        }
      ]
    },
    {
      "cell_type": "code",
      "metadata": {
        "id": "kZ3pxLT5vCtZ",
        "colab_type": "code",
        "colab": {
          "base_uri": "https://localhost:8080/",
          "height": 34
        },
        "outputId": "6d90a879-d118-4a70-d1c1-841ad876cbf7"
      },
      "source": [
        "GetVanderMondeMatrix(np.array([1,2,3,4,5,6]),True)"
      ],
      "execution_count": 40,
      "outputs": [
        {
          "output_type": "execute_result",
          "data": {
            "text/plain": [
              "array([   1,    2,    9,   64,  625, 7776])"
            ]
          },
          "metadata": {
            "tags": []
          },
          "execution_count": 40
        }
      ]
    },
    {
      "cell_type": "markdown",
      "metadata": {
        "id": "7D9vHztGR3M5",
        "colab_type": "text"
      },
      "source": [
        "### Question - 02\n",
        "### Problem : Kth Moving Average"
      ]
    },
    {
      "cell_type": "code",
      "metadata": {
        "id": "IgIiLbjTTyLB",
        "colab_type": "code",
        "colab": {}
      },
      "source": [
        "def PrepareNumbersList(inp):\n",
        "  inplist = inp.split(',')\n",
        "  Res = []\n",
        "  for i in inplist:\n",
        "    Res.append(int(i))\n",
        "  return Res\n"
      ],
      "execution_count": 0,
      "outputs": []
    },
    {
      "cell_type": "code",
      "metadata": {
        "id": "lJYM0nRvSjj3",
        "colab_type": "code",
        "colab": {}
      },
      "source": [
        "def MovingAverage(inpList, k):\n",
        "  l = len(inpList)\n",
        "  Res = []\n",
        "  for i in range(0,l-k+1):\n",
        "    Res.append(sum(inpList[i:i+k])/k)\n",
        "  return Res"
      ],
      "execution_count": 0,
      "outputs": []
    },
    {
      "cell_type": "code",
      "metadata": {
        "id": "8JBYUC4uTNlH",
        "colab_type": "code",
        "colab": {}
      },
      "source": [
        "def FindMovingAverage():\n",
        "  inp = input(\"Enter the comma separated list of numbers : \")\n",
        "  k = int(input(\"Enter the Window size : \"))\n",
        "  if inp is not \"\":\n",
        "    inpList = PrepareNumbersList(inp)\n",
        "  else:\n",
        "    return \"Invalid List\"\n",
        "  if len(inpList) != 0 and k<len(inpList):\n",
        "    return MovingAverage(inpList,k)\n",
        "  else:\n",
        "    return \"Invalid Parameters Given\""
      ],
      "execution_count": 0,
      "outputs": []
    },
    {
      "cell_type": "markdown",
      "metadata": {
        "id": "w2jQ1fHAfWOV",
        "colab_type": "text"
      },
      "source": [
        "#### Applying the Function For Given List"
      ]
    },
    {
      "cell_type": "code",
      "metadata": {
        "id": "S9vmL8bde8a9",
        "colab_type": "code",
        "colab": {
          "base_uri": "https://localhost:8080/",
          "height": 68
        },
        "outputId": "8664ecb7-07a7-4bcf-cfcc-3a1ffb10c745"
      },
      "source": [
        "FindMovingAverage()"
      ],
      "execution_count": 44,
      "outputs": [
        {
          "output_type": "stream",
          "text": [
            "Enter the comma separated list of numbers : 1,2,3,4,5,6,7,8,9,10\n",
            "Enter the Window size : 5\n"
          ],
          "name": "stdout"
        },
        {
          "output_type": "execute_result",
          "data": {
            "text/plain": [
              "[3.0, 4.0, 5.0, 6.0, 7.0, 8.0]"
            ]
          },
          "metadata": {
            "tags": []
          },
          "execution_count": 44
        }
      ]
    },
    {
      "cell_type": "code",
      "metadata": {
        "id": "QJu2IO55Uv0a",
        "colab_type": "code",
        "colab": {
          "base_uri": "https://localhost:8080/",
          "height": 68
        },
        "outputId": "24695eaf-f3c6-4c2a-e8fd-2f9d875aee2b"
      },
      "source": [
        "FindMovingAverage()"
      ],
      "execution_count": 46,
      "outputs": [
        {
          "output_type": "stream",
          "text": [
            "Enter the comma separated list of numbers : 50\n",
            "Enter the Window size : 5\n"
          ],
          "name": "stdout"
        },
        {
          "output_type": "execute_result",
          "data": {
            "text/plain": [
              "'Invalid Parameters Given'"
            ]
          },
          "metadata": {
            "tags": []
          },
          "execution_count": 46
        }
      ]
    },
    {
      "cell_type": "code",
      "metadata": {
        "id": "JjMiHgJ-ZxF6",
        "colab_type": "code",
        "colab": {
          "base_uri": "https://localhost:8080/",
          "height": 68
        },
        "outputId": "fb18c7de-b6b8-46be-f18a-ae09370faaa0"
      },
      "source": [
        "FindMovingAverage()"
      ],
      "execution_count": 47,
      "outputs": [
        {
          "output_type": "stream",
          "text": [
            "Enter the comma separated list of numbers : 20,20,12,56,53\n",
            "Enter the Window size : 2\n"
          ],
          "name": "stdout"
        },
        {
          "output_type": "execute_result",
          "data": {
            "text/plain": [
              "[20.0, 16.0, 34.0, 54.5]"
            ]
          },
          "metadata": {
            "tags": []
          },
          "execution_count": 47
        }
      ]
    }
  ]
}