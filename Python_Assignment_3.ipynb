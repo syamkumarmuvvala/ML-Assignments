{
  "nbformat": 4,
  "nbformat_minor": 0,
  "metadata": {
    "colab": {
      "name": "Python Assignment 3.ipynb",
      "provenance": [],
      "collapsed_sections": [
        "hw6OXA_KFk2D",
        "c-04dlzQWRk5",
        "_2OcqJEUXL63",
        "l7FafB-ylsQV",
        "qdDXJRE2V6Iv"
      ],
      "authorship_tag": "ABX9TyN5II5JdXsvejSgumKvJ2YL",
      "include_colab_link": true
    },
    "kernelspec": {
      "name": "python3",
      "display_name": "Python 3"
    }
  },
  "cells": [
    {
      "cell_type": "markdown",
      "metadata": {
        "id": "view-in-github",
        "colab_type": "text"
      },
      "source": [
        "<a href=\"https://colab.research.google.com/github/syamkumarmuvvala/ML-Assignments/blob/master/Python_Assignment_3.ipynb\" target=\"_parent\"><img src=\"https://colab.research.google.com/assets/colab-badge.svg\" alt=\"Open In Colab\"/></a>"
      ]
    },
    {
      "cell_type": "markdown",
      "metadata": {
        "id": "KvDm9DGJFdgB",
        "colab_type": "text"
      },
      "source": [
        "# Python Assignment 3\n",
        "# Author : Syam Kumar Muvvala"
      ]
    },
    {
      "cell_type": "markdown",
      "metadata": {
        "id": "hw6OXA_KFk2D",
        "colab_type": "text"
      },
      "source": [
        "### Question - 1.1\n",
        "### myreduce() function"
      ]
    },
    {
      "cell_type": "code",
      "metadata": {
        "id": "jBnzRuFSSYo4",
        "colab_type": "code",
        "colab": {}
      },
      "source": [
        "# Defining myreduce() function\n",
        "def myreduce(function,sequence,initial=None):\n",
        "  flag = False\n",
        "  for i in sequence:\n",
        "    if (not flag):\n",
        "      OperationResult = function(initial,i) if (initial is not None) else i\n",
        "      flag = True\n",
        "    else:\n",
        "      OperationResult = function(OperationResult,i)\n",
        "  return OperationResult"
      ],
      "execution_count": 0,
      "outputs": []
    },
    {
      "cell_type": "markdown",
      "metadata": {
        "id": "c-04dlzQWRk5",
        "colab_type": "text"
      },
      "source": [
        "#### Testing myreduce() function"
      ]
    },
    {
      "cell_type": "code",
      "metadata": {
        "id": "ZKL88-cMG3ut",
        "colab_type": "code",
        "outputId": "1f5aacf2-03d6-4312-fd10-0f7b85ef182e",
        "colab": {
          "base_uri": "https://localhost:8080/",
          "height": 52
        }
      },
      "source": [
        "# testing myreduce() function with lambda function and a list\n",
        "# 01 -> without initial parameter\n",
        "print(myreduce(lambda x,y:x+y,[1,2,3]))\n",
        "# 02 -> with the initial parameter\n",
        "print(myreduce(lambda x,y:x+y,[1,2,3],10))"
      ],
      "execution_count": 0,
      "outputs": [
        {
          "output_type": "stream",
          "text": [
            "6\n",
            "16\n"
          ],
          "name": "stdout"
        }
      ]
    },
    {
      "cell_type": "code",
      "metadata": {
        "id": "ROlKTM8xHEg0",
        "colab_type": "code",
        "outputId": "951a0b7b-335a-4f80-f112-98cf96f351a3",
        "colab": {
          "base_uri": "https://localhost:8080/",
          "height": 52
        }
      },
      "source": [
        "# testing myreduce() function with mul() function and a list\n",
        "def mul(x,y):\n",
        "  return x*y\n",
        "\n",
        "mylist = [1,2]\n",
        "\n",
        "# with the initial parameter\n",
        "print(myreduce(mul,mylist))\n",
        "# without the intial parameter\n",
        "print(myreduce(mul,mylist,10))"
      ],
      "execution_count": 0,
      "outputs": [
        {
          "output_type": "stream",
          "text": [
            "2\n",
            "20\n"
          ],
          "name": "stdout"
        }
      ]
    },
    {
      "cell_type": "code",
      "metadata": {
        "id": "Fn_qjDLxGTvE",
        "colab_type": "code",
        "outputId": "9a18f9f7-f332-43bb-fbb1-1910bca4a998",
        "colab": {
          "base_uri": "https://localhost:8080/",
          "height": 34
        }
      },
      "source": [
        "# testing myreduce() function with a list with one parameter\n",
        "myreduce(lambda x,y:x**y,[1])"
      ],
      "execution_count": 0,
      "outputs": [
        {
          "output_type": "execute_result",
          "data": {
            "text/plain": [
              "1"
            ]
          },
          "metadata": {
            "tags": []
          },
          "execution_count": 11
        }
      ]
    },
    {
      "cell_type": "code",
      "metadata": {
        "id": "8fMM5QcHH57O",
        "colab_type": "code",
        "outputId": "15b9f4f7-0a01-41b4-d34e-c755c84faff1",
        "colab": {
          "base_uri": "https://localhost:8080/",
          "height": 34
        }
      },
      "source": [
        "# testing myreduce() function with a tuple\n",
        "myreduce(lambda x,y:x**y,(1,2,3))"
      ],
      "execution_count": 0,
      "outputs": [
        {
          "output_type": "execute_result",
          "data": {
            "text/plain": [
              "1"
            ]
          },
          "metadata": {
            "tags": []
          },
          "execution_count": 13
        }
      ]
    },
    {
      "cell_type": "code",
      "metadata": {
        "id": "H3q0TalfH_8i",
        "colab_type": "code",
        "outputId": "c9717f74-f7a0-4149-84cb-c0b7a2f0cff5",
        "colab": {
          "base_uri": "https://localhost:8080/",
          "height": 34
        }
      },
      "source": [
        "# testing myreduce() function with a dictionary sequence\n",
        "myreduce(lambda x,y:x+y,{'a':1,'b':2})"
      ],
      "execution_count": 0,
      "outputs": [
        {
          "output_type": "execute_result",
          "data": {
            "text/plain": [
              "'ab'"
            ]
          },
          "metadata": {
            "tags": []
          },
          "execution_count": 39
        }
      ]
    },
    {
      "cell_type": "code",
      "metadata": {
        "id": "IcDerzNHNlnR",
        "colab_type": "code",
        "outputId": "1b26c0df-43d3-45fa-aba5-7d59b5744b3d",
        "colab": {
          "base_uri": "https://localhost:8080/",
          "height": 52
        }
      },
      "source": [
        "# testing myreduce() function with a set sequence\n",
        "# without the intial parameter\n",
        "print(myreduce(lambda x,y:x+y, {1,2,3,4}))\n",
        "# with the intial parameter\n",
        "print(myreduce(lambda x,y:x+y, {1,2,3,4},2))"
      ],
      "execution_count": 0,
      "outputs": [
        {
          "output_type": "stream",
          "text": [
            "10\n",
            "12\n"
          ],
          "name": "stdout"
        }
      ]
    },
    {
      "cell_type": "code",
      "metadata": {
        "id": "2hsb4kqlWhq4",
        "colab_type": "code",
        "outputId": "e2c0ab77-fdc8-43f1-916e-4ccfe0759c45",
        "colab": {
          "base_uri": "https://localhost:8080/",
          "height": 52
        }
      },
      "source": [
        "# testing the myreduce() function with a ndarray sequence\n",
        "import numpy as np\n",
        "# without initial parameter\n",
        "print(myreduce(lambda x,y:x+y, np.arange(5)))\n",
        "# with the initial parameter\n",
        "print(myreduce(lambda x,y:x+y, np.arange(5),2))"
      ],
      "execution_count": 0,
      "outputs": [
        {
          "output_type": "stream",
          "text": [
            "10\n",
            "12\n"
          ],
          "name": "stdout"
        }
      ]
    },
    {
      "cell_type": "markdown",
      "metadata": {
        "id": "_2OcqJEUXL63",
        "colab_type": "text"
      },
      "source": [
        "### Question - 1.2\n",
        "### myfilter() function"
      ]
    },
    {
      "cell_type": "code",
      "metadata": {
        "id": "kysSgHrfdwmE",
        "colab_type": "code",
        "colab": {}
      },
      "source": [
        "# Defining myfilter() function\n",
        "def myfilter(function,Sequence):\n",
        "  return [i for i in Sequence if( ((function is None) and i) or ((function is not None) and function(i)) )]"
      ],
      "execution_count": 0,
      "outputs": []
    },
    {
      "cell_type": "markdown",
      "metadata": {
        "id": "l7FafB-ylsQV",
        "colab_type": "text"
      },
      "source": [
        "#### Testing myfilter() function"
      ]
    },
    {
      "cell_type": "code",
      "metadata": {
        "id": "JwjAZ8mLlwx_",
        "colab_type": "code",
        "outputId": "dc291b5b-536b-481e-ec9e-46e472d5c5a5",
        "colab": {
          "base_uri": "https://localhost:8080/",
          "height": 34
        }
      },
      "source": [
        "# test - 01\n",
        "# testing myfilter() function with proper parameters\n",
        "myfilter(lambda x:x%2==0,[1,2,3,4,5,6,7,8,9,10])"
      ],
      "execution_count": 0,
      "outputs": [
        {
          "output_type": "execute_result",
          "data": {
            "text/plain": [
              "[2, 4, 6, 8, 10]"
            ]
          },
          "metadata": {
            "tags": []
          },
          "execution_count": 103
        }
      ]
    },
    {
      "cell_type": "code",
      "metadata": {
        "id": "kAHNK1vCmV5G",
        "colab_type": "code",
        "outputId": "1a0efa21-6c9d-4a32-c236-98a2c23c7602",
        "colab": {
          "base_uri": "https://localhost:8080/",
          "height": 34
        }
      },
      "source": [
        "# test - 02\n",
        "myfilter(lambda x:str.isupper(x),[\"syam\",\"KUMAR\"])"
      ],
      "execution_count": 0,
      "outputs": [
        {
          "output_type": "execute_result",
          "data": {
            "text/plain": [
              "['KUMAR']"
            ]
          },
          "metadata": {
            "tags": []
          },
          "execution_count": 104
        }
      ]
    },
    {
      "cell_type": "code",
      "metadata": {
        "id": "ZNEsrw9ncHRc",
        "colab_type": "code",
        "outputId": "96e95dc4-c203-4489-c1c2-1f3379239f07",
        "colab": {
          "base_uri": "https://localhost:8080/",
          "height": 34
        }
      },
      "source": [
        "# test - 03\n",
        "# testing myfilter() function with None function as first parameter\n",
        "myfilter(None, [1,2,3,4,5,False,True,5%2,2%2])"
      ],
      "execution_count": 0,
      "outputs": [
        {
          "output_type": "execute_result",
          "data": {
            "text/plain": [
              "[1, 2, 3, 4, 5, True, 1]"
            ]
          },
          "metadata": {
            "tags": []
          },
          "execution_count": 109
        }
      ]
    },
    {
      "cell_type": "markdown",
      "metadata": {
        "id": "z_COz4awnmT-",
        "colab_type": "text"
      },
      "source": [
        "### Question - 02"
      ]
    },
    {
      "cell_type": "markdown",
      "metadata": {
        "id": "kcrrv1qQn4n7",
        "colab_type": "text"
      },
      "source": [
        "#### Problem-01 : ['x', 'xx', 'xxx', 'xxxx', 'y', 'yy', 'yyy', 'yyyy', 'z', 'zz', 'zzz', 'zzzz'] "
      ]
    },
    {
      "cell_type": "code",
      "metadata": {
        "id": "nCHWIg5GuIo-",
        "colab_type": "code",
        "colab": {
          "base_uri": "https://localhost:8080/",
          "height": 34
        },
        "outputId": "5d07ab57-ac6a-46e1-e4f5-0ae219fd1d95"
      },
      "source": [
        "print([i*y for i in ['x','y','z'] for y in range(1,5)])"
      ],
      "execution_count": 10,
      "outputs": [
        {
          "output_type": "stream",
          "text": [
            "['x', 'xx', 'xxx', 'xxxx', 'y', 'yy', 'yyy', 'yyyy', 'z', 'zz', 'zzz', 'zzzz']\n"
          ],
          "name": "stdout"
        }
      ]
    },
    {
      "cell_type": "markdown",
      "metadata": {
        "id": "CrNqmwQEUu6f",
        "colab_type": "text"
      },
      "source": [
        "#### Problem-02 : ['x', 'y', 'z', 'xx', 'yy', 'zz', 'xxx', 'yyy', 'zzz', 'xxxx', 'yyyy', 'zzzz'] "
      ]
    },
    {
      "cell_type": "code",
      "metadata": {
        "id": "LcqhNmcVUUH6",
        "colab_type": "code",
        "colab": {
          "base_uri": "https://localhost:8080/",
          "height": 34
        },
        "outputId": "8d404c3e-1497-4f34-a78d-11f3c11671e2"
      },
      "source": [
        "[i*y for i in range(1,5) for y in ['x','y','z']]"
      ],
      "execution_count": 24,
      "outputs": [
        {
          "output_type": "execute_result",
          "data": {
            "text/plain": [
              "['x', 'y', 'z', 'xx', 'yy', 'zz', 'xxx', 'yyy', 'zzz', 'xxxx', 'yyyy', 'zzzz']"
            ]
          },
          "metadata": {
            "tags": []
          },
          "execution_count": 24
        }
      ]
    },
    {
      "cell_type": "markdown",
      "metadata": {
        "id": "qdDXJRE2V6Iv",
        "colab_type": "text"
      },
      "source": [
        "#### Problem-03: [[2], [3], [4], [3], [4], [5], [4], [5], [6]]"
      ]
    },
    {
      "cell_type": "code",
      "metadata": {
        "id": "Vus0ShOea_oD",
        "colab_type": "code",
        "colab": {
          "base_uri": "https://localhost:8080/",
          "height": 34
        },
        "outputId": "7b59c6f1-0ff1-4977-fa51-8f991e50bbf7"
      },
      "source": [
        "print([[i+j] for i in range(2,5) for j in range(0,3)])"
      ],
      "execution_count": 17,
      "outputs": [
        {
          "output_type": "stream",
          "text": [
            "[[2], [3], [4], [3], [4], [5], [4], [5], [6]]\n"
          ],
          "name": "stdout"
        }
      ]
    },
    {
      "cell_type": "markdown",
      "metadata": {
        "id": "nVPkPlyIcNki",
        "colab_type": "text"
      },
      "source": [
        "#### Problem-04 : [[2, 3, 4, 5], [3, 4, 5, 6],[4, 5, 6, 7], [5, 6, 7, 8]]"
      ]
    },
    {
      "cell_type": "code",
      "metadata": {
        "id": "dy33fWbVbvaU",
        "colab_type": "code",
        "colab": {
          "base_uri": "https://localhost:8080/",
          "height": 34
        },
        "outputId": "c9d6e16c-ad5d-4d25-ee40-1926562dd1d5"
      },
      "source": [
        "print([[(i+j) for j in range(0,4)] for i in range(2,6)])"
      ],
      "execution_count": 21,
      "outputs": [
        {
          "output_type": "stream",
          "text": [
            "[[2, 3, 4, 5], [3, 4, 5, 6], [4, 5, 6, 7], [5, 6, 7, 8]]\n"
          ],
          "name": "stdout"
        }
      ]
    },
    {
      "cell_type": "markdown",
      "metadata": {
        "id": "zhwiCxnvWN7d",
        "colab_type": "text"
      },
      "source": [
        "#### Problem-05: [(1, 1), (2, 1), (3, 1), (1, 2), (2, 2), (3, 2), (1, 3), (2, 3), (3, 3)]"
      ]
    },
    {
      "cell_type": "code",
      "metadata": {
        "id": "qYRzhrGYWvPW",
        "colab_type": "code",
        "colab": {
          "base_uri": "https://localhost:8080/",
          "height": 34
        },
        "outputId": "72f0f51f-476b-4222-98a2-63182968111b"
      },
      "source": [
        "print([(j,i) for i in range(1,4) for j in range(1,4)])"
      ],
      "execution_count": 22,
      "outputs": [
        {
          "output_type": "stream",
          "text": [
            "[(1, 1), (2, 1), (3, 1), (1, 2), (2, 2), (3, 2), (1, 3), (2, 3), (3, 3)]\n"
          ],
          "name": "stdout"
        }
      ]
    }
  ]
}