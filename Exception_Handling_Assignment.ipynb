{
  "nbformat": 4,
  "nbformat_minor": 0,
  "metadata": {
    "colab": {
      "name": "Exception_Handling_Assignment.ipynb",
      "provenance": [],
      "collapsed_sections": [],
      "authorship_tag": "ABX9TyP4UnmtP/uWz7p+qHUCNbnt",
      "include_colab_link": true
    },
    "kernelspec": {
      "name": "python3",
      "display_name": "Python 3"
    }
  },
  "cells": [
    {
      "cell_type": "markdown",
      "metadata": {
        "id": "view-in-github",
        "colab_type": "text"
      },
      "source": [
        "<a href=\"https://colab.research.google.com/github/syamkumarmuvvala/ML-Assignments/blob/master/Exception_Handling_Assignment.ipynb\" target=\"_parent\"><img src=\"https://colab.research.google.com/assets/colab-badge.svg\" alt=\"Open In Colab\"/></a>"
      ]
    },
    {
      "cell_type": "markdown",
      "metadata": {
        "id": "56Z--nXXje9Z",
        "colab_type": "text"
      },
      "source": [
        "# Exception Handling Assignment\n",
        "### Author : Syam Kumar Muvvala"
      ]
    },
    {
      "cell_type": "markdown",
      "metadata": {
        "id": "K38yFAP-kpo2",
        "colab_type": "text"
      },
      "source": [
        "### Question - 01"
      ]
    },
    {
      "cell_type": "code",
      "metadata": {
        "id": "Y7Flee97jHvI",
        "colab_type": "code",
        "colab": {
          "base_uri": "https://localhost:8080/",
          "height": 34
        },
        "outputId": "ce62934c-9fa7-4d08-e351-b4cb59e6fc61"
      },
      "source": [
        "try:\n",
        "  a = 5/0\n",
        "except Exception as e:\n",
        "  print(\"An exception occured: {}\".format(e))"
      ],
      "execution_count": 1,
      "outputs": [
        {
          "output_type": "stream",
          "text": [
            "An exception occured: division by zero\n"
          ],
          "name": "stdout"
        }
      ]
    },
    {
      "cell_type": "markdown",
      "metadata": {
        "id": "70xDf7gvksi9",
        "colab_type": "text"
      },
      "source": [
        "### Question - 02"
      ]
    },
    {
      "cell_type": "code",
      "metadata": {
        "id": "c3fTWy4Ujz6R",
        "colab_type": "code",
        "colab": {
          "base_uri": "https://localhost:8080/",
          "height": 153
        },
        "outputId": "9fe75542-547e-4c51-8bb5-ec82b87a58a1"
      },
      "source": [
        "subjects = [\"Americans\",\"Indians\"]\n",
        "verbs = [\"play\",\"watch\"]\n",
        "objects = [\"Baseball\",\"Cricket\"]\n",
        "x = [subject+\" \"+verb+\" \"+obj+\".\" for subject in subjects for verb in verbs for obj in objects]\n",
        "print('\\n'.join(x))"
      ],
      "execution_count": 10,
      "outputs": [
        {
          "output_type": "stream",
          "text": [
            "Americans play Baseball.\n",
            "Americans play Cricket.\n",
            "Americans watch Baseball.\n",
            "Americans watch Cricket.\n",
            "Indians play Baseball.\n",
            "Indians play Cricket.\n",
            "Indians watch Baseball.\n",
            "Indians watch Cricket.\n"
          ],
          "name": "stdout"
        }
      ]
    }
  ]
}