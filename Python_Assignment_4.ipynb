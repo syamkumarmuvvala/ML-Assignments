{
  "nbformat": 4,
  "nbformat_minor": 0,
  "metadata": {
    "colab": {
      "name": "Python Assignment 4.ipynb",
      "provenance": [],
      "collapsed_sections": [
        "whoOeOyNfRXD",
        "d7VRjxsrhSFY",
        "Nl_3tKmAwVBR",
        "dWGJvJIlw9Go"
      ],
      "authorship_tag": "ABX9TyNZ4eu79h3tgZ5gEUOUpQBQ",
      "include_colab_link": true
    },
    "kernelspec": {
      "name": "python3",
      "display_name": "Python 3"
    }
  },
  "cells": [
    {
      "cell_type": "markdown",
      "metadata": {
        "id": "view-in-github",
        "colab_type": "text"
      },
      "source": [
        "<a href=\"https://colab.research.google.com/github/syamkumarmuvvala/ML-Assignments/blob/master/Python_Assignment_4.ipynb\" target=\"_parent\"><img src=\"https://colab.research.google.com/assets/colab-badge.svg\" alt=\"Open In Colab\"/></a>"
      ]
    },
    {
      "cell_type": "markdown",
      "metadata": {
        "id": "cD1be9y-fI1S",
        "colab_type": "text"
      },
      "source": [
        "# Python Assignment 4\n",
        "## Author : Syam Kumar Muvvala"
      ]
    },
    {
      "cell_type": "markdown",
      "metadata": {
        "id": "whoOeOyNfRXD",
        "colab_type": "text"
      },
      "source": [
        "### Question - 01"
      ]
    },
    {
      "cell_type": "code",
      "metadata": {
        "id": "Y5tQ5RIshiYv",
        "colab_type": "code",
        "colab": {}
      },
      "source": [
        "class Triangle:\n",
        "  def __init__(self,side1,side2,side3):\n",
        "    self.side1 = side1\n",
        "    self.side2 = side2\n",
        "    self.side3 = side3"
      ],
      "execution_count": 0,
      "outputs": []
    },
    {
      "cell_type": "code",
      "metadata": {
        "id": "iOz61blLiWNS",
        "colab_type": "code",
        "colab": {}
      },
      "source": [
        "class TArea(Triangle):\n",
        "  def __init__(self,*args):\n",
        "    super(TArea,self).__init__(*args)\n",
        "  def __Perimeter(self):\n",
        "    return (self.side1 + self.side2 + self.side3)/2\n",
        "  def Area(self):\n",
        "    s = self.__Perimeter()\n",
        "    return (s * (s - self.side1) * (s - self.side2) * (s - self.side3)) ** 0.5\n",
        "  def __str__(self):\n",
        "    return \"The Area of the triangle with the sides {}, {}, {} is {}\".format(self.side1,self.side2,self.side3,self.Area())"
      ],
      "execution_count": 0,
      "outputs": []
    },
    {
      "cell_type": "code",
      "metadata": {
        "id": "XwPobdcpfPu3",
        "colab_type": "code",
        "colab": {
          "base_uri": "https://localhost:8080/",
          "height": 34
        },
        "outputId": "159cc0f1-e8a6-42d8-f13b-b89754166e3e"
      },
      "source": [
        "# testing the class\n",
        "T = TArea(13.8,23.9,18.0)\n",
        "T.Area()"
      ],
      "execution_count": 73,
      "outputs": [
        {
          "output_type": "execute_result",
          "data": {
            "text/plain": [
              "123.38643743843978"
            ]
          },
          "metadata": {
            "tags": []
          },
          "execution_count": 73
        }
      ]
    },
    {
      "cell_type": "code",
      "metadata": {
        "id": "1XKYWkZzghdM",
        "colab_type": "code",
        "colab": {
          "base_uri": "https://localhost:8080/",
          "height": 34
        },
        "outputId": "2f2dd1fe-a9d8-4aa0-b1d0-2dd80389b1e2"
      },
      "source": [
        "print(T)"
      ],
      "execution_count": 54,
      "outputs": [
        {
          "output_type": "stream",
          "text": [
            "The Area of the triangle with the sides 13.8, 23.9, 18.0 is 123.38643743843978\n"
          ],
          "name": "stdout"
        }
      ]
    },
    {
      "cell_type": "markdown",
      "metadata": {
        "id": "d7VRjxsrhSFY",
        "colab_type": "text"
      },
      "source": [
        "### Question - 1.2"
      ]
    },
    {
      "cell_type": "code",
      "metadata": {
        "id": "jF1uL7cshUek",
        "colab_type": "code",
        "colab": {}
      },
      "source": [
        "def filter_long_words(wordslist,length):\n",
        "  return [i for i in wordslist if len(i)>length]"
      ],
      "execution_count": 0,
      "outputs": []
    },
    {
      "cell_type": "code",
      "metadata": {
        "id": "oQbhS7TNwA9q",
        "colab_type": "code",
        "colab": {
          "base_uri": "https://localhost:8080/",
          "height": 34
        },
        "outputId": "6cb0e045-b22b-4514-bc1d-b5b938e89ab6"
      },
      "source": [
        "mylist = [\"s\",\"syam\",\"OM\",\"kumar\"]\n",
        "filter_long_words(mylist,2)"
      ],
      "execution_count": 59,
      "outputs": [
        {
          "output_type": "execute_result",
          "data": {
            "text/plain": [
              "['syam', 'kumar']"
            ]
          },
          "metadata": {
            "tags": []
          },
          "execution_count": 59
        }
      ]
    },
    {
      "cell_type": "markdown",
      "metadata": {
        "id": "Nl_3tKmAwVBR",
        "colab_type": "text"
      },
      "source": [
        "### Question - 2.1"
      ]
    },
    {
      "cell_type": "code",
      "metadata": {
        "id": "bGUPN14cwKL5",
        "colab_type": "code",
        "colab": {}
      },
      "source": [
        "def MapWordToInteger(wordslist):\n",
        "  return [len(i) for i in wordslist]"
      ],
      "execution_count": 0,
      "outputs": []
    },
    {
      "cell_type": "code",
      "metadata": {
        "id": "TWpTQnTYws1e",
        "colab_type": "code",
        "colab": {
          "base_uri": "https://localhost:8080/",
          "height": 34
        },
        "outputId": "d4fc3b06-de30-4b7a-dddd-e6a69821b68d"
      },
      "source": [
        "mylist = [\"s\",\"syam\",\"OM\",\"kumar\"]\n",
        "MapWordToInteger(mylist)"
      ],
      "execution_count": 63,
      "outputs": [
        {
          "output_type": "execute_result",
          "data": {
            "text/plain": [
              "[1, 4, 2, 5]"
            ]
          },
          "metadata": {
            "tags": []
          },
          "execution_count": 63
        }
      ]
    },
    {
      "cell_type": "markdown",
      "metadata": {
        "id": "dWGJvJIlw9Go",
        "colab_type": "text"
      },
      "source": [
        "### Question - 2.2"
      ]
    },
    {
      "cell_type": "code",
      "metadata": {
        "id": "ehWEJejUwxF-",
        "colab_type": "code",
        "colab": {}
      },
      "source": [
        "def IsVowel(char):\n",
        "  if char in {'a','e','i','o','u','A','E','I','O','U'}:\n",
        "    return True\n",
        "  return False"
      ],
      "execution_count": 0,
      "outputs": []
    },
    {
      "cell_type": "code",
      "metadata": {
        "id": "Y693wkbJxhvg",
        "colab_type": "code",
        "colab": {
          "base_uri": "https://localhost:8080/",
          "height": 34
        },
        "outputId": "1a1f48a5-e91f-4810-e0b7-9d9967716e5b"
      },
      "source": [
        "IsVowel('a')"
      ],
      "execution_count": 66,
      "outputs": [
        {
          "output_type": "execute_result",
          "data": {
            "text/plain": [
              "True"
            ]
          },
          "metadata": {
            "tags": []
          },
          "execution_count": 66
        }
      ]
    },
    {
      "cell_type": "code",
      "metadata": {
        "id": "WiBLvITRxnir",
        "colab_type": "code",
        "colab": {
          "base_uri": "https://localhost:8080/",
          "height": 34
        },
        "outputId": "cec83649-f3ba-4017-e01a-ee19d9776fde"
      },
      "source": [
        "IsVowel('b')"
      ],
      "execution_count": 67,
      "outputs": [
        {
          "output_type": "execute_result",
          "data": {
            "text/plain": [
              "False"
            ]
          },
          "metadata": {
            "tags": []
          },
          "execution_count": 67
        }
      ]
    },
    {
      "cell_type": "code",
      "metadata": {
        "id": "Eftwmkhaxqth",
        "colab_type": "code",
        "colab": {
          "base_uri": "https://localhost:8080/",
          "height": 34
        },
        "outputId": "2a3db739-2b33-44ae-ad6a-9076aea949cb"
      },
      "source": [
        "IsVowel('E')"
      ],
      "execution_count": 69,
      "outputs": [
        {
          "output_type": "execute_result",
          "data": {
            "text/plain": [
              "True"
            ]
          },
          "metadata": {
            "tags": []
          },
          "execution_count": 69
        }
      ]
    },
    {
      "cell_type": "code",
      "metadata": {
        "id": "ZizvHc3TxvVS",
        "colab_type": "code",
        "colab": {
          "base_uri": "https://localhost:8080/",
          "height": 34
        },
        "outputId": "647d3c89-9f78-4e1a-81ae-7570de2d059d"
      },
      "source": [
        "IsVowel('B')"
      ],
      "execution_count": 70,
      "outputs": [
        {
          "output_type": "execute_result",
          "data": {
            "text/plain": [
              "False"
            ]
          },
          "metadata": {
            "tags": []
          },
          "execution_count": 70
        }
      ]
    }
  ]
}