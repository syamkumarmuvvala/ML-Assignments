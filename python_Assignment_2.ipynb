{
  "nbformat": 4,
  "nbformat_minor": 0,
  "metadata": {
    "colab": {
      "name": "python Assignment 2.ipynb",
      "provenance": [],
      "collapsed_sections": [],
      "authorship_tag": "ABX9TyNqfuFj7OkHAoxmOuTZFHFk",
      "include_colab_link": true
    },
    "kernelspec": {
      "name": "python3",
      "display_name": "Python 3"
    }
  },
  "cells": [
    {
      "cell_type": "markdown",
      "metadata": {
        "id": "view-in-github",
        "colab_type": "text"
      },
      "source": [
        "<a href=\"https://colab.research.google.com/github/syamkumarmuvvala/ML-Assignments/blob/master/python_Assignment_2.ipynb\" target=\"_parent\"><img src=\"https://colab.research.google.com/assets/colab-badge.svg\" alt=\"Open In Colab\"/></a>"
      ]
    },
    {
      "cell_type": "markdown",
      "metadata": {
        "id": "UF_MMTCCEwQT",
        "colab_type": "text"
      },
      "source": [
        "## Python Assignment - 2\n",
        "## Author : syam kumar Muvvala"
      ]
    },
    {
      "cell_type": "markdown",
      "metadata": {
        "id": "73ov1aMyE89p",
        "colab_type": "text"
      },
      "source": [
        "### Question - 1"
      ]
    },
    {
      "cell_type": "code",
      "metadata": {
        "id": "nUaBQPY5Eyox",
        "colab_type": "code",
        "colab": {
          "base_uri": "https://localhost:8080/",
          "height": 170
        },
        "outputId": "3a7b5cd2-cbc4-411d-d8d8-9b466d32eb88"
      },
      "source": [
        "no_of_base_lines = 5\n",
        "Actual = no_of_base_lines * 2\n",
        "for i in range(1 , Actual):\n",
        "    if(i <= Actual/2):\n",
        "        for j in range(i):\n",
        "            print('*',end=\" \")\n",
        "        print()\n",
        "    else:\n",
        "        for j in range(Actual - i):\n",
        "            print('*',end=\" \")\n",
        "        print()"
      ],
      "execution_count": 1,
      "outputs": [
        {
          "output_type": "stream",
          "text": [
            "* \n",
            "* * \n",
            "* * * \n",
            "* * * * \n",
            "* * * * * \n",
            "* * * * \n",
            "* * * \n",
            "* * \n",
            "* \n"
          ],
          "name": "stdout"
        }
      ]
    },
    {
      "cell_type": "markdown",
      "metadata": {
        "id": "mGt9MTGGFKIr",
        "colab_type": "text"
      },
      "source": [
        "### Question - 2"
      ]
    },
    {
      "cell_type": "code",
      "metadata": {
        "id": "MG_uMVOHFI34",
        "colab_type": "code",
        "colab": {
          "base_uri": "https://localhost:8080/",
          "height": 51
        },
        "outputId": "781f5bb1-ec24-4ff8-9aed-1861901a2993"
      },
      "source": [
        "# Method - 1\n",
        "input_word = input(\"Input word: \")\n",
        "print(\"Output:\",input_word[::-1])"
      ],
      "execution_count": 2,
      "outputs": [
        {
          "output_type": "stream",
          "text": [
            "Input word: ineuron\n",
            "Output: norueni\n"
          ],
          "name": "stdout"
        }
      ]
    },
    {
      "cell_type": "code",
      "metadata": {
        "id": "AajYl-TbFNz-",
        "colab_type": "code",
        "colab": {
          "base_uri": "https://localhost:8080/",
          "height": 51
        },
        "outputId": "aa9bd6a4-84f5-4f0c-c606-26e49b23fe8b"
      },
      "source": [
        "# Method - 2\n",
        "input_word = input(\"Input word: \")\n",
        "rs = \"\"\n",
        "for i in range(len(input_word)-1,-1,-1):\n",
        "    rs = rs + input_word[i]\n",
        "print(\"Output:\",rs)"
      ],
      "execution_count": 3,
      "outputs": [
        {
          "output_type": "stream",
          "text": [
            "Input word: ineuron\n",
            "Output: norueni\n"
          ],
          "name": "stdout"
        }
      ]
    },
    {
      "cell_type": "markdown",
      "metadata": {
        "id": "ukiLl5N7FiQb",
        "colab_type": "text"
      },
      "source": [
        "### Question - 3"
      ]
    }
  ]
}