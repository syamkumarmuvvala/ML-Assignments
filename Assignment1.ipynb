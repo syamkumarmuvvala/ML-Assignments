{
  "nbformat": 4,
  "nbformat_minor": 0,
  "metadata": {
    "kernelspec": {
      "display_name": "Python 3",
      "language": "python",
      "name": "python3"
    },
    "language_info": {
      "codemirror_mode": {
        "name": "ipython",
        "version": 3
      },
      "file_extension": ".py",
      "mimetype": "text/x-python",
      "name": "python",
      "nbconvert_exporter": "python",
      "pygments_lexer": "ipython3",
      "version": "3.7.6"
    },
    "colab": {
      "name": "Assignment1.ipynb",
      "provenance": [],
      "include_colab_link": true
    }
  },
  "cells": [
    {
      "cell_type": "markdown",
      "metadata": {
        "id": "view-in-github",
        "colab_type": "text"
      },
      "source": [
        "<a href=\"https://colab.research.google.com/github/syamkumarmuvvala/ML-Assignments/blob/master/Assignment1.ipynb\" target=\"_parent\"><img src=\"https://colab.research.google.com/assets/colab-badge.svg\" alt=\"Open In Colab\"/></a>"
      ]
    },
    {
      "cell_type": "markdown",
      "metadata": {
        "id": "fqtjKslnFylj",
        "colab_type": "text"
      },
      "source": [
        "# Assignment - 1\n",
        "## Author : syamkumar846@gmail.com"
      ]
    },
    {
      "cell_type": "markdown",
      "metadata": {
        "id": "I2p14i3zFyln",
        "colab_type": "text"
      },
      "source": [
        "### Question - 1"
      ]
    },
    {
      "cell_type": "code",
      "metadata": {
        "id": "ZpIEDn0PFyls",
        "colab_type": "code",
        "outputId": "fa5ec08c-4546-4edf-8a85-0e66dc4c274a",
        "colab": {}
      },
      "source": [
        "s = []\n",
        "for num in range(2000,3201):\n",
        "  if (num % 7 == 0) and (num % 5 == 0):\n",
        "    s.append(num)\n",
        "print(s)"
      ],
      "execution_count": 0,
      "outputs": [
        {
          "output_type": "stream",
          "text": [
            "[2030, 2065, 2100, 2135, 2170, 2205, 2240, 2275, 2310, 2345, 2380, 2415, 2450, 2485, 2520, 2555, 2590, 2625, 2660, 2695, 2730, 2765, 2800, 2835, 2870, 2905, 2940, 2975, 3010, 3045, 3080, 3115, 3150, 3185]\n"
          ],
          "name": "stdout"
        }
      ]
    },
    {
      "cell_type": "markdown",
      "metadata": {
        "id": "OeZj9zxkFyl_",
        "colab_type": "text"
      },
      "source": [
        "### Question - 2"
      ]
    },
    {
      "cell_type": "code",
      "metadata": {
        "id": "iY4PMqlbFymC",
        "colab_type": "code",
        "outputId": "8b5e3f33-7bcf-43c1-ff2c-974ff38bab8b",
        "colab": {}
      },
      "source": [
        "FirstName = input(\"Enter the First Name: \")\n",
        "LastName = input(\"Enter the Second Name: \")\n",
        "print(FirstName[::-1],LastName[::-1],sep=\" \")"
      ],
      "execution_count": 0,
      "outputs": [
        {
          "output_type": "stream",
          "text": [
            "Enter the First Name: syam\n",
            "Enter the Second Name: kumar\n",
            "mays ramuk\n"
          ],
          "name": "stdout"
        }
      ]
    },
    {
      "cell_type": "markdown",
      "metadata": {
        "id": "7KjLXQtlFymS",
        "colab_type": "text"
      },
      "source": [
        "### Question - 3"
      ]
    },
    {
      "cell_type": "code",
      "metadata": {
        "id": "lvtqm3bLFymV",
        "colab_type": "code",
        "outputId": "4737374d-81ea-48dd-bf3b-ee4a65f642b4",
        "colab": {}
      },
      "source": [
        "import math\n",
        "Diameter = 12 #cm\n",
        "Radius = Diameter/2\n",
        "Volume = (4/3) * math.pi * math.pow(Radius,3)\n",
        "print(\"Volume of the sphere: {} cm3\".format(Volume))"
      ],
      "execution_count": 0,
      "outputs": [
        {
          "output_type": "stream",
          "text": [
            "Volume of the sphere: 904.7786842338603 cm3\n"
          ],
          "name": "stdout"
        }
      ]
    },
    {
      "cell_type": "markdown",
      "metadata": {
        "id": "4SXNzDPaFymj",
        "colab_type": "text"
      },
      "source": [
        "### Question - 4"
      ]
    },
    {
      "cell_type": "code",
      "metadata": {
        "id": "yuBVhAQKFymm",
        "colab_type": "code",
        "outputId": "1b798028-2984-490b-fc23-7274b03b820e",
        "colab": {}
      },
      "source": [
        "inp_data = input(\"Enter sequence of comma separated numbers: \")\n",
        "x = inp_data.split(',')\n",
        "list_data = []\n",
        "for i in x:\n",
        "    list_data.append(int(i))\n",
        "print(list_data)"
      ],
      "execution_count": 0,
      "outputs": [
        {
          "output_type": "stream",
          "text": [
            "Enter sequence of comma separated numbers: 1,2,3,4,5\n",
            "[1, 2, 3, 4, 5]\n"
          ],
          "name": "stdout"
        }
      ]
    },
    {
      "cell_type": "markdown",
      "metadata": {
        "id": "0GSnCPD5Fym6",
        "colab_type": "text"
      },
      "source": [
        "### Question - 5"
      ]
    },
    {
      "cell_type": "code",
      "metadata": {
        "scrolled": true,
        "id": "rxYZ9m78Fym-",
        "colab_type": "code",
        "outputId": "ab7e503a-a286-489c-c636-480876615fc5",
        "colab": {}
      },
      "source": [
        "no_of_base_lines = 5\n",
        "Actual = no_of_base_lines * 2\n",
        "for i in range(1 , Actual):\n",
        "    if(i <= Actual/2):\n",
        "        for j in range(i):\n",
        "            print('*',end=\" \")\n",
        "        print()\n",
        "    else:\n",
        "        for j in range(Actual - i):\n",
        "            print('*',end=\" \")\n",
        "        print()"
      ],
      "execution_count": 0,
      "outputs": [
        {
          "output_type": "stream",
          "text": [
            "* \n",
            "* * \n",
            "* * * \n",
            "* * * * \n",
            "* * * * * \n",
            "* * * * \n",
            "* * * \n",
            "* * \n",
            "* \n"
          ],
          "name": "stdout"
        }
      ]
    },
    {
      "cell_type": "markdown",
      "metadata": {
        "id": "PBGObpynFynM",
        "colab_type": "text"
      },
      "source": [
        "### Question - 6"
      ]
    },
    {
      "cell_type": "code",
      "metadata": {
        "id": "GnP9MFAzFynP",
        "colab_type": "code",
        "outputId": "423a544a-da0d-446f-a0ec-fa245ede789e",
        "colab": {}
      },
      "source": [
        "input_word = input(\"Enter a word: \")\n",
        "print(\"Output: \",input_word[::-1])"
      ],
      "execution_count": 0,
      "outputs": [
        {
          "output_type": "stream",
          "text": [
            "Enter a word: ineuron\n",
            "Output:  norueni\n"
          ],
          "name": "stdout"
        }
      ]
    },
    {
      "cell_type": "markdown",
      "metadata": {
        "id": "z1eCOFDcFynd",
        "colab_type": "text"
      },
      "source": [
        "### Question - 7"
      ]
    },
    {
      "cell_type": "code",
      "metadata": {
        "id": "8K5zL5WEFynf",
        "colab_type": "code",
        "outputId": "b06515a6-c9dc-43d5-9a37-fafd9dfe0fdd",
        "colab": {}
      },
      "source": [
        "print(\"WE, THE PEOPLE OF INDIA,\\n\\t having solemnly resolved to constitute India into a SOVEREIGN,!\\n\\t\\t SOCIALIST, SECULAR, DEMOCRATIC REPUBLIC\\n\\t\\t  and to secure to all its citizens\")"
      ],
      "execution_count": 0,
      "outputs": [
        {
          "output_type": "stream",
          "text": [
            "WE, THE PEOPLE OF INDIA,\n",
            "\t having solemnly resolved to constitute India into a SOVEREIGN,!\n",
            "\t\t SOCIALIST, SECULAR, DEMOCRATIC REPUBLIC\n",
            "\t\t  and to secure to all its citizens\n"
          ],
          "name": "stdout"
        }
      ]
    }
  ]
}